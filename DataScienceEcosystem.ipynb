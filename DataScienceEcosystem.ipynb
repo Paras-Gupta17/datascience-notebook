{
 "cells": [
  {
   "cell_type": "markdown",
   "id": "996916fe-1633-43dc-b447-9428928eadf7",
   "metadata": {},
   "source": [
    "# Data Science Tools and Ecosystem"
   ]
  },
  {
   "cell_type": "markdown",
   "id": "9748c0bc-a378-4c5f-8d39-4f936006e869",
   "metadata": {},
   "source": [
    "In this notebook, Data Science Tools and Ecosystem are summarized."
   ]
  },
  {
   "cell_type": "markdown",
   "id": "4506b8c5-c169-4c30-9128-b03354c2c1eb",
   "metadata": {},
   "source": [
    "Some of the popular languages that Data Scientists use are:\n",
    "\n",
    "1. Python\n",
    "2. R\n",
    "3. SQL\n",
    "4. Julia\n",
    "5. Java\n"
   ]
  },
  {
   "attachments": {},
   "cell_type": "markdown",
   "id": "52b967e9-aa79-4efa-9a80-4000fb78b4bc",
   "metadata": {},
   "source": [
    "Some of the commonly used libraries used by Data Scientists include:\n",
    "\n",
    "1. NumPy\n",
    "2. Pandas\n",
    "3. Matplotlib\n",
    "4. Scikit-learn\n",
    "5. TensorFlow\n",
    "6. PyTorch\n"
   ]
  },
  {
   "cell_type": "markdown",
   "id": "220eae38-1c40-4010-a50a-cce9106c652d",
   "metadata": {},
   "source": [
    "| Data Science Tools      |\n",
    "|--------------------------|\n",
    "| Jupyter Notebook         |\n",
    "| RStudio                  |\n",
    "| IBM Watson Studio        |\n",
    "| Apache Zeppelin          |\n"
   ]
  },
  {
   "cell_type": "markdown",
   "id": "7980d911-84d4-489d-8bc0-27640f569874",
   "metadata": {},
   "source": [
    "### Below are a few examples of evaluating arithmetic expressions in Python"
   ]
  },
  {
   "cell_type": "code",
   "execution_count": 6,
   "id": "fbc7539b-fa0e-411e-846b-bb1608b72bae",
   "metadata": {},
   "outputs": [
    {
     "data": {
      "text/plain": [
       "17"
      ]
     },
     "execution_count": 6,
     "metadata": {},
     "output_type": "execute_result"
    }
   ],
   "source": [
    "#This a simple arithmetic expression to mutiply then add integers\n",
    "(3*4)+5"
   ]
  },
  {
   "cell_type": "code",
   "execution_count": 10,
   "id": "bdbf01ee-d4f7-49ce-98ad-117783a06441",
   "metadata": {},
   "outputs": [
    {
     "name": "stdout",
     "output_type": "stream",
     "text": [
      "3.3333333333333335 Hrs\n"
     ]
    }
   ],
   "source": [
    "# This will convert 200 minutes to hours by dividing by 60.\n",
    "t=200 / 60\n",
    "print(t,\"Hrs\")"
   ]
  },
  {
   "cell_type": "markdown",
   "id": "0d4e30bf-b181-4dad-b518-a311830e83c8",
   "metadata": {},
   "source": [
    "**Objectives:**\n",
    "\n",
    "- List popular languages for Data Science.\n",
    "- Explore commonly used libraries in Data Science.\n",
    "- Learn about development environment tools used in Data Science.\n",
    "- Practice evaluating simple arithmetic expressions.\n",
    "- Convert units (e.g., minutes to hours) using code.\n"
   ]
  },
  {
   "attachments": {},
   "cell_type": "markdown",
   "id": "fccd1153-ac26-49f4-8b60-7dc65c56adc4",
   "metadata": {},
   "source": [
    "## Author\n",
    "\n",
    "Paras Gupta\n"
   ]
  },
  {
   "cell_type": "code",
   "execution_count": null,
   "id": "2d1cb0f2-9ff2-4123-b0c1-5c7e0956e0c7",
   "metadata": {},
   "outputs": [],
   "source": []
  }
 ],
 "metadata": {
  "kernelspec": {
   "display_name": "Python 3 (ipykernel)",
   "language": "python",
   "name": "python3"
  },
  "language_info": {
   "codemirror_mode": {
    "name": "ipython",
    "version": 3
   },
   "file_extension": ".py",
   "mimetype": "text/x-python",
   "name": "python",
   "nbconvert_exporter": "python",
   "pygments_lexer": "ipython3",
   "version": "3.12.8"
  }
 },
 "nbformat": 4,
 "nbformat_minor": 5
}
